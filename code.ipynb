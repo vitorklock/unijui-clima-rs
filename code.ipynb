{
 "cells": [],
 "metadata": {
  "kernelspec": {
   "display_name": "clima-rs",
   "language": "python",
   "name": "python3"
  },
  "language_info": {
   "name": "python",
   "version": "3.10.12"
  }
 },
 "nbformat": 4,
 "nbformat_minor": 5
}
